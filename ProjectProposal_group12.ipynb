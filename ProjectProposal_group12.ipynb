{
 "cells": [
  {
   "cell_type": "markdown",
   "metadata": {},
   "source": [
    "# COGS 108 - Project Proposal"
   ]
  },
  {
   "cell_type": "markdown",
   "metadata": {},
   "source": [
    "# Names\n",
    "\n",
    "- Sadaf Jamali-Hanjani\n",
    "- Emilie Joseph\n",
    "- Raisa Shafi\n",
    "- Janhavi Shah\n",
    "- Austria Wang"
   ]
  },
  {
   "cell_type": "markdown",
   "metadata": {},
   "source": [
    "# Research Question"
   ]
  },
  {
   "cell_type": "markdown",
   "metadata": {},
   "source": [
    "\n",
    "Which genre of movies are predicted to be the most likely to be remade or rebooted by 2030, if we take into account the ratings, revenue, popularity, genres, and budget of already released, well known movies? \n",
    "\n"
   ]
  },
  {
   "cell_type": "markdown",
   "metadata": {},
   "source": [
    "## Background and Prior Work"
   ]
  },
  {
   "cell_type": "markdown",
   "metadata": {},
   "source": [
    "\n",
    "The film industry’s trends and tastes constantly shift, often leading to the revival of beloved classics through remakes and reboots.<sup>[1]</sup> In this research, we turn our attention to the question: Which genre of movies is most likely to be remade or rebooted in the next five years, taking into account factors such as box office revenue and audience ratings?\n",
    "\n",
    "While Hollywood constantly seeks fresh narratives and innovative approaches, it often relies on tried-and-true genres with established fan bases for remakes and reboots. Action, adventure, and superhero genres have historically dominated the landscape for such endeavors due to their wide appeal and potential for lucrative box office returns.<sup>[2]</sup> However, recent shifts in audience tastes and industry trends may indicate changes on the horizon.\n",
    "\n",
    "An article by Cardinal Times (2024) underscores the industry's bias towards sequels and remakes as a successful strategy, with a staggering 38 out of 53 movies grossing over $1 billion being either sequels or remakes, as reported by Deadline (2024)<sup>[3]</sup>. However, while comprehensive data on the reboot potential of various genres remains hard to find, insights into audience reception from studies like James Barnes' research at Verve Search shed light on sentiments. Barnes found that remakes were unfavorably compared to their originals over 90% of the time, with horror reboots notably receiving the harshest criticism, as evidenced by significant drops in Metacritic scores for films like 'The House on Sorority Row' and 'Cabin Fever' (The Washington Post, 2019)<sup>[4]</sup>.\n",
    "\n",
    "These insights, alongside audience and critical feedback, will guide our data analysis into determining the genre most popular for remakes in the future.\n",
    "\n",
    "<sub>References:</sub>\n",
    "\n",
    "<sub>[1] - 'The Hollywood Reporter. (2020). 'Everything Old Is New Again': Hollywood's Love of Remakes and How to Break the Curse.' https://www.hollywoodreporter.com/movies/movie-news/everything-old-new-again-hollywoods-love-remakes-how-break-curse-1274009/</sub>\n",
    "\n",
    "<sub>[2] - 'Variety. (2019). Why Hollywood Remakes Are Here to Stay.' https://variety.com/2019/film/news/why-hollywood-remakes-are-here-to-stay-1203407925/</sub>\n",
    "\n",
    "<sub>[3] - 'Cardinal Times. (2024). Industry's Bias Towards Sequels and Remakes.' https://www.cardinaltimes.com/news/2024/industry-bias-towards-sequels-and-remakes/</sub>\n",
    "\n",
    "<sub>[4] - The Washington Post. (2019). 'Why Hollywood keeps making terrible movie reboots, according to data.' https://www.washingtonpost.com/entertainment/2019/06/19/why-hollywood-keeps-making-terrible-movie-reboots-according-data/</sub>\n",
    "\n"
  
    
   ]
  },
  {
   "cell_type": "markdown",
   "metadata": {},
   "source": [
    "# Hypothesis\n"
   ]
  },
  {
   "cell_type": "markdown",
   "metadata": {},
   "source": [
    
    
   ]
  },
  {
   "cell_type": "markdown",
   "metadata": {},
   "source": [
   "\n",
   "Our team's hypothesis is that depending on the box office sales previous movies have made is dependent on whether or not the movie is going to be remade. After doing more research we will see the specific genres and their box office sales to determine which genre has the highest sales and which genre has the highest remakes. We think that it is unlikely that a movie that had low box office sales will be remade because if it failed the first time the remake won’t make it much better since most people who might’ve seen the original and didn’t like are most likely won’t watch a remake, this goes for high box office sale movies, if the viewer loved the movie they are more likely to watch a remake.\n",
   "\n"
   ]
  },
  {
   "cell_type": "markdown",
   "metadata": {},
   "source": [
  
    "\n",
    " Our ideal datasets would include a list of all movies produced in a given period of time, with variables such as genre, how much in profits, box office sales. All of our teammates have alotted time to doing research on datasets and their reliability and usability for this project. We have already found trustworthy data sources such as IMBD and TMDB.\n",
    "\n",
   
    "\n",
    " TMDb Dataset - https://www.kaggle.com/datasets/asaniczka/tmdb-movies-dataset-2023-930k-movies/data\n", 
    "\n",
    "IMDb Dataset - https://developer.imdb.com/non-commercial-datasets/\n",
    "\n"
   ]
  },
  {
   "cell_type": "markdown",
   "metadata": {},
   "source": [
    "# Ethics & Privacy"
   ]
  },
  {
   "cell_type": "markdown",
   "metadata": {},
   "source": [
    "1. **The Question:** Our question is trying to analyze the genre of movies that will most likely be rebooted which is why we are using The TMDb (The Movie Database) we found on Kaggle. We were interested in focusing on movies as our group enjoys film and we were curious to know what type of movies will be remade within the next five years. This question will track each movie’s financial budget, profit, audience rating, as well as genre to see if there is any correlation between movie genre and whether it will be remade for modern audiences or in the future.\n",
    "2. **The Implications:** The stakeholders for this questions would be the movie studios as we would create a tool to allow them to green light or forgo certain movie genres or scripts that they may be thinking about remaking. Some unintended consequences could be that after our final analysis we could find that certain genres are in fact more likely to be remade due to financial gains while others may not be as financially successful. This can become a detriment to writers, actors or directors as the movie studios would focus on movies or genres that only make them money rather than taking a chance on a movie ideas or scripts that are both original and innovating but may be less financially successful. Another implication would be that creativity would be stifled as the movie studios prioritize financial gains rather than take creative risks. \n",
    "3. **The Data:** The dataset that we are using is available on Kaggle which contains over 1 million movie titles. Their dataset is also uploaded daily which means that there is always a consistent stream of data being created and used. There are also around 24 columns that we will be able to use to analyze so our data will be able to compare different aspects of the successful or failure of each movie. The only main bias we would have to be hesitant in using would be the voter’s rating and the total voter’s count of each movie. Since the dataset takes the average of the rating of each movie given by the viewer it may be skewed data as not every viewer who watches a movie will give a movie a rating. We would have to take into account that the audience of who is actually rating the movies are those who are very interested in movies and will take the time to rate a movie they just watched rather than just casual viewers who may not review a movie they just watched. \n",
    "4. **Informed Consent:** Since this dataset is public use and doesn’t gather any of the voter’s personal information, there is no risk for using this dataset. All of the other empirical data regarding the movie’s budget and financial return are all available to the public so there is very low risk in using this dataset to answer our question. The other issue is if Kaggle or the owner of this dataset decides to remove this dataset, we wouldn’t be able to continue to use it anymore.\n",
    "5. **Privacy:** Nothing we are using from this dataset will create any risks regarding privacy as this data was gathered from public sources such as IMDB. The main privacy issue would be the voter’s column but this specific dataset is anonymized which means that there is no identifiable information on who the voter actually is. \n",
    "6. **Evaluation:** We will be able to evaluate our project after implementing a system to see which movies are the most successful and if they have been remade or rebooted so far. After we figure out which movies are usually rebooted and from which genre we would be able to make an inference of the type of movie that will be remade in the next five years. We will also take into account that if our outcome is not verifiable and that we see no patterns within the genre of movie we will have to make a conclusion based on that as well.\n",
    "7. **Analysis:** We will need to spend time with our dataset to make sure that we are not just inferring things that do not correlate with each other. Taking into account financial success, audience ratings, and previous decades of movies being remade we will need to see empirical evidence in whether or not there is a pattern that the movie studios take when deciding which movies or genres are should be remade for modern audiences and mass appeal. \n",
    "8. **Transparency and Appeal:** Our model would not be a black box model as we have the empirical data to back up our findings. Since all of our data is publicly available we would not be able to alter the numbers such as financial gain and profit. We also have each film’s budget which we will take into account when it comes to a movie’s true profitability or not. The data is transparent in the way that the data gathered can be found online and not based on our own personal biases or inferences.\n",
    "9. **Continuous Monitoring:** We will be able to update our metrics as the dataset that we are using is constantly being updated. Once we configure a good system and code in order to to use and analyze this data we would be able to use it until the dataset is removed from Kaggle. We will be weary of potential unintended side effects such as if movie studios want to use our system to analyze the type of movie they should remake or not but we believe that there will not be a harmful impact due to us focusing on the movies itself and not any individual’s personal data. \n"

   ]
  },
  {
   "cell_type": "markdown",
   "metadata": {},
   "source": [
    "# Team Expectations "
   ]
  },
  {
   "cell_type": "markdown",
   "metadata": {},
   "source": [
    "\n",
    "Our group came to the consensus that in order to be successful in the completion of our project, we must hold ourselves and each other accountable in following the expectations we put in place.\n",
    
    "* *Team Expectation 1:* Effective Communication: Communicate when things need to be completed so that we are able to maintain consistent progress. We will communicate through messages and discord to share our ideas. \n",
    
    "* *Team Expectation 2:* Weekly Meetings: Show up to every weekly meeting so we can touch base on the progress of our project. We will meet every Thursday at 11 am (time that we all agree on) on a video call to work together and discuss our progress.\n",
    
    "* *Team Expectation 3:* Asking Questions: Reach out and give each other the support when things begin to feel stressful. We will text any questions to the group chat for anyone to answer. We can also save any major questions that need further discussion for the video call meetings.\n",
   
    "* *Team Expectation 4:* Meeting Deadlines: Deadlines are important so make sure each individual's assigned portion is completed on time. We must set soft deadlines for specific parts of the project and all agree to complete our respective parts by the selected date.\n",
  
    "* *Team Expectation 5:* Checking Work: We should check each other’s work as we progress with the project to make sure we don’t have any errors. Be open to changes if necessary.\n"
   ]
  },
  {
   "cell_type": "markdown",
   "metadata": {},
   "source": [
    "# Project Timeline Proposal"
   ]
  },
  {
   "cell_type": "markdown",
   "metadata": {},
   "source": [
    "\n",
    "| Meeting Date  | Meeting Time| Completed Before Meeting  | Discuss at Meeting |\n",
    "|---|---|---|---|\n",
    "| 4/25  |  11 AM | Create a Discord group chat to communicate | Get to know each other, brainstorm different topics and vote by next meeting date | \n",
    "| 5/2  |  11 AM |  Choose topic and gather information about the topic to present | Draft project proposal | \n",
    "| 5/9  | 11 AM  |  Everyone provides datasets they have searched for prior (Genre and box office sales)  | Assign group members to their part and discuss any questions/confusions   |\n",
    "| 5/16  | 11 AM  | Have data prepared and ready for the Checkpoint | Present the started work and review/edit together |\n",
    "| 5/23  | 11 AM  | Prepare for the next checkpoint | Work on EDA and edit together for the checkpoint |\n",
    "| 5/30  | 11 AM  | Complete EDA Checkpoint and have it ready to be reviewed | Start finalizing the final project and prepare additional information |\n",
    "| 6/6  | 11 AM  | Review the Final Project | Add final touch ups before turning the project in on 6/12 |"

   ]
  }
 ],
 "metadata": {
  "kernelspec": {
   "display_name": "Python 3 (ipykernel)",
   "language": "python",
   "name": "python3"
  },
  "language_info": {
   "codemirror_mode": {
    "name": "ipython",
    "version": 3
   },
   "file_extension": ".py",
   "mimetype": "text/x-python",
   "name": "python",
   "nbconvert_exporter": "python",
   "pygments_lexer": "ipython3",
   "version": "3.9.7"
  }
 },
 "nbformat": 4,
 "nbformat_minor": 2
}
